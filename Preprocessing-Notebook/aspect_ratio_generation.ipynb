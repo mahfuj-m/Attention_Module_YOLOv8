{
 "cells": [
  {
   "cell_type": "code",
   "execution_count": 1,
   "id": "9c96354c",
   "metadata": {},
   "outputs": [],
   "source": [
    "import os\n",
    "import cv2\n",
    "import numpy as np\n",
    "import pandas as pd\n",
    "import matplotlib.pyplot as plt"
   ]
  },
  {
   "cell_type": "code",
   "execution_count": 2,
   "id": "2a647399",
   "metadata": {},
   "outputs": [],
   "source": [
    "def get_bbox(path,IMG_SIZE):\n",
    "    temp=[]\n",
    "    _,file= os.path.split(path)\n",
    "    with open(path) as f:\n",
    "        for i in f:\n",
    "            box=i.split(' ')\n",
    "            x = float(box[1]) *IMG_SIZE\n",
    "            y = float(box[2]) *IMG_SIZE\n",
    "            w = float(box[3]) *IMG_SIZE\n",
    "            h = float(box[4]) *IMG_SIZE\n",
    "            temp.append([file,x,y,w,h])\n",
    "    return temp\n",
    "def distribution_of_aspect_ratio(PATH,IMG_SIZE,plot_name):\n",
    "    cols=['ID','X','Y','W','H']\n",
    "    df=pd.DataFrame(columns=cols)\n",
    "    for file in os.listdir(PATH):\n",
    "        file_path= os.path.join(PATH, file)\n",
    "        boxes= get_bbox(file_path, IMG_SIZE)\n",
    "        temp_df=pd.DataFrame(boxes,columns= cols )\n",
    "        df = pd.concat([df, temp_df], ignore_index=True)\n",
    "    df['aspect_ratio']= (df['W']/df['H']).round(4)\n",
    "    plt.figure(figsize=(6, 6))\n",
    "    plt.hist(df['aspect_ratio'], bins=20, edgecolor='black', alpha=0.7)\n",
    "    plt.title('Distribution of vessel size of '+plot_name)\n",
    "    plt.xlabel('aspect_ratio')\n",
    "    plt.ylabel('Frequency of ships')\n",
    "    plt.grid(False)\n",
    "    plt.savefig(plot_name+'.png')\n",
    "    plt.show()\n",
    "        \n",
    "        "
   ]
  },
  {
   "cell_type": "code",
   "execution_count": 3,
   "id": "60b61810",
   "metadata": {},
   "outputs": [
    {
     "data": {
      "image/png": "[encoded data removed]",
      "text/plain": [
       "<Figure size 432x432 with 1 Axes>"
      ]
     },
     "metadata": {
      "needs_background": "light"
     },
     "output_type": "display_data"
    }
   ],
   "source": [
    "bboxes=distribution_of_aspect_ratio(os.path.normpath('Datasets/SSDD/labels/'), 416, 'SSDD') # pass the dataset label location, image size and the name"
   ]
  },
  {
   "cell_type": "code",
   "execution_count": null,
   "id": "d1586a51",
   "metadata": {},
   "outputs": [],
   "source": []
  }
 ],
 "metadata": {
  "kernelspec": {
   "display_name": "thesis",
   "language": "python",
   "name": "thesis"
  },
  "language_info": {
   "codemirror_mode": {
    "name": "ipython",
    "version": 3
   },
   "file_extension": ".py",
   "mimetype": "text/x-python",
   "name": "python",
   "nbconvert_exporter": "python",
   "pygments_lexer": "ipython3",
   "version": "3.8.9"
  }
 },
 "nbformat": 4,
 "nbformat_minor": 5
}
