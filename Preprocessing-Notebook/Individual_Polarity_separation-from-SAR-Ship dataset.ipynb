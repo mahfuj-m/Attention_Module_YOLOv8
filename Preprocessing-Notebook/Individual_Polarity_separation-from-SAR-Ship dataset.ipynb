{
 "cells": [
  {
   "cell_type": "code",
   "execution_count": 1,
   "id": "2a5f744f",
   "metadata": {},
   "outputs": [],
   "source": [
    "import os\n",
    "import random\n",
    "import shutil\n",
    "from tqdm import tqdm"
   ]
  },
  {
   "cell_type": "code",
   "execution_count": 10,
   "id": "c3ee0c66",
   "metadata": {},
   "outputs": [
    {
     "name": "stderr",
     "output_type": "stream",
     "text": [
      "100%|███████████████████████████████████████████████████████████████████████████| 39729/39729 [06:34<00:00, 100.66it/s]\n"
     ]
    }
   ],
   "source": [
    "source =  'SATELLITE_IMAGE/SAR-Ship/images/'\n",
    "for file in tqdm(os.listdir(source)):\n",
    "    path = os.path.join(source, file)\n",
    "    if 'hh' in file:\n",
    "        destination= 'SATELLITE_IMAGE/SAR-Ship/HH/images'\n",
    "        shutil.copy2(path, destination)\n",
    "    elif 'hv' in file:\n",
    "        destination= 'SATELLITE_IMAGE/SAR-Ship/HV/images'\n",
    "        shutil.copy2(path, destination)\n",
    "    elif 'vh' in file:\n",
    "        destination= 'SATELLITE_IMAGE/SAR-Ship/VH/images'\n",
    "        shutil.copy2(path, destination)\n",
    "    elif 'vv' in file:\n",
    "        destination= 'SATELLITE_IMAGE/SAR-Ship/VV/images'\n",
    "        shutil.copy2(path, destination)\n"
   ]
  },
  {
   "cell_type": "code",
   "execution_count": 11,
   "id": "ecf856d2",
   "metadata": {},
   "outputs": [
    {
     "name": "stderr",
     "output_type": "stream",
     "text": [
      "100%|███████████████████████████████████████████████████████████████████████████| 39729/39729 [06:20<00:00, 104.51it/s]\n"
     ]
    }
   ],
   "source": [
    "source =  'SATELLITE_IMAGE/SAR-Ship/labels/'\n",
    "for file in tqdm(os.listdir(source)):\n",
    "    path = os.path.join(source, file)\n",
    "    if 'hh' in file:\n",
    "        destination= 'SATELLITE_IMAGE/SAR-Ship/HH/labels'\n",
    "        shutil.copy2(path, destination)\n",
    "    elif 'hv' in file:\n",
    "        destination= 'SATELLITE_IMAGE/SAR-Ship/HV/labels'\n",
    "        shutil.copy2(path, destination)\n",
    "    elif 'vh' in file:\n",
    "        destination= 'SATELLITE_IMAGE/SAR-Ship/VH/labels'\n",
    "        shutil.copy2(path, destination)\n",
    "    elif 'vv' in file:\n",
    "        destination= 'SATELLITE_IMAGE/SAR-Ship/VV/labels'\n",
    "        shutil.copy2(path, destination)"
   ]
  },
  {
   "cell_type": "code",
   "execution_count": null,
   "id": "9c6d6e79",
   "metadata": {},
   "outputs": [],
   "source": []
  }
 ],
 "metadata": {
  "kernelspec": {
   "display_name": "thesis",
   "language": "python",
   "name": "thesis"
  },
  "language_info": {
   "codemirror_mode": {
    "name": "ipython",
    "version": 3
   },
   "file_extension": ".py",
   "mimetype": "text/x-python",
   "name": "python",
   "nbconvert_exporter": "python",
   "pygments_lexer": "ipython3",
   "version": "3.8.9"
  }
 },
 "nbformat": 4,
 "nbformat_minor": 5
}
