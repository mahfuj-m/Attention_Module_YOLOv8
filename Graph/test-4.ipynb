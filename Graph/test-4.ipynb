{
 "cells": [
  {
   "cell_type": "code",
   "execution_count": 42,
   "id": "aa4e97ba",
   "metadata": {},
   "outputs": [],
   "source": [
    "import os\n",
    "import numpy as np\n",
    "import matplotlib.pyplot as plt\n",
    "from PIL import Image\n",
    "import pandas as pd\n",
    "import sys\n",
    "# %cd ..\n",
    "sys.path.append(os.path.join(os.getcwd(),'ultralytics/'))"
   ]
  },
  {
   "cell_type": "code",
   "execution_count": 2,
   "id": "cabeb508",
   "metadata": {},
   "outputs": [],
   "source": [
    "intermediate_features=[]\n",
    "input_features=[]\n",
    "def hook(module, input_layer, output_layer):\n",
    "    print(module)\n",
    "    input_features.append(input_layer)\n",
    "    intermediate_features.append(output_layer)\n",
    "    \n",
    "def feature_extraction(model, img, layer):\n",
    "    global intermediate_features, input_features\n",
    "    intermediate_features=[]\n",
    "    input_features=[]\n",
    "\n",
    "    \n",
    "    hook_val = model.model.model[layer].register_forward_hook(hook)\n",
    "    print(hook_val)\n",
    "    \n",
    "    with torch.no_grad():\n",
    "        model(img)\n",
    "    hook_val.remove()\n",
    "    return intermediate_features[-1],input_features[-1]\n",
    "\n",
    "def image_preprocessing(image):\n",
    "    transform= transforms.Compose([\n",
    "        transforms.Resize((640,640)),\n",
    "        transforms.ToTensor(),\n",
    "        transforms.Normalize(mean=0., std=1.)\n",
    "    ])\n",
    "    img= Image.open(image)\n",
    "    img =  transform(img)\n",
    "    img = img.unsqueeze(0)\n",
    "    \n",
    "    return img"
   ]
  },
  {
   "cell_type": "code",
   "execution_count": 3,
   "id": "63b34e33",
   "metadata": {},
   "outputs": [],
   "source": [
    "import torch\n",
    "from ultralytics import YOLO\n",
    "from torchvision import transforms"
   ]
  },
  {
   "cell_type": "code",
   "execution_count": 4,
   "id": "b63f6b4d",
   "metadata": {},
   "outputs": [
    {
     "name": "stdout",
     "output_type": "stream",
     "text": [
      "YOLOv8n-ECA summary: 241 layers, 3011055 parameters, 0 gradients\n"
     ]
    },
    {
     "data": {
      "text/plain": [
       "(241, 3011055, 0, 0.0)"
      ]
     },
     "execution_count": 4,
     "metadata": {},
     "output_type": "execute_result"
    }
   ],
   "source": [
    "model=YOLO('Graph/properties/Test_4/weights/best.pt')\n",
    "model.info(detailed=False)"
   ]
  },
  {
   "cell_type": "code",
   "execution_count": 43,
   "id": "7d217482",
   "metadata": {},
   "outputs": [],
   "source": [
    "dual_img= 'Temp/VV&VH.png'\n",
    "single_img= 'Temp/000110.jpg'"
   ]
  },
  {
   "cell_type": "code",
   "execution_count": 13,
   "id": "157c1ec3",
   "metadata": {},
   "outputs": [],
   "source": [
    "imgs=[dual_img, single_img]"
   ]
  },
  {
   "cell_type": "code",
   "execution_count": 21,
   "id": "6b708f35",
   "metadata": {},
   "outputs": [],
   "source": [
    "import seaborn as sns"
   ]
  },
  {
   "cell_type": "code",
   "execution_count": 37,
   "id": "3c5eb01e",
   "metadata": {},
   "outputs": [
    {
     "name": "stdout",
     "output_type": "stream",
     "text": [
      "<torch.utils.hooks.RemovableHandle object at 0x7fe0dbbf8c10>\n",
      "\n",
      "ECAAttention(\n",
      "  (avg_pool): AdaptiveAvgPool2d(output_size=1)\n",
      "  (conv): Conv1d(1, 1, kernel_size=(3,), stride=(1,), padding=(1,), bias=False)\n",
      "  (sigmoid): Sigmoid()\n",
      ")\n",
      "0: 640x640 3 vessels, 103.1ms\n",
      "Speed: 0.0ms preprocess, 103.1ms inference, 5.0ms postprocess per image at shape (1, 3, 640, 640)\n"
     ]
    },
    {
     "data": {
      "image/png": "[encoded data removed]",
      "text/plain": [
       "<Figure size 200x300 with 2 Axes>"
      ]
     },
     "metadata": {},
     "output_type": "display_data"
    }
   ],
   "source": [
    "fig = plt.figure(figsize=(2, 3))\n",
    "layer=25\n",
    "img=image_preprocessing(imgs[1])\n",
    "features=feature_extraction(model, img, layer )\n",
    "for i in range(0,2):\n",
    "    j=10\n",
    "    data = features[0][0][i+j].cpu().numpy() \n",
    "    ax = fig.add_subplot(2, 1, i+1)  \n",
    "    sns.heatmap(data, cmap='viridis',cbar=False, annot=False, ax=ax)  \n",
    " \n",
    "    ax.axis('off')  \n",
    "\n",
    "\n",
    "plt.tight_layout()\n",
    "\n",
    "plt.savefig(str(layer)+'.png')\n",
    "\n",
    "plt.show()"
   ]
  },
  {
   "cell_type": "code",
   "execution_count": 19,
   "id": "825849d4",
   "metadata": {},
   "outputs": [
    {
     "data": {
      "text/plain": [
       "torch.Size([1, 128, 40, 40])"
      ]
     },
     "execution_count": 19,
     "metadata": {},
     "output_type": "execute_result"
    }
   ],
   "source": [
    "features[0].shape"
   ]
  },
  {
   "cell_type": "code",
   "execution_count": 45,
   "id": "1b804543",
   "metadata": {},
   "outputs": [
    {
     "name": "stdout",
     "output_type": "stream",
     "text": [
      "\n",
      "image 1/1 /Users/mahfujurrahman/Desktop/Thesis/Ultralytics/Temp/000110.jpg: 640x640 3 vessels, 166.2ms\n",
      "Speed: 6.9ms preprocess, 166.2ms inference, 15.9ms postprocess per image at shape (1, 3, 640, 640)\n"
     ]
    },
    {
     "data": {
      "text/plain": [
       "[ultralytics.engine.results.Results object with attributes:\n",
       " \n",
       " boxes: ultralytics.engine.results.Boxes object\n",
       " keypoints: None\n",
       " masks: None\n",
       " names: {0: 'vessel'}\n",
       " obb: None\n",
       " orig_img: array([[[ 4,  4,  4],\n",
       "         [ 4,  4,  4],\n",
       "         [ 4,  4,  4],\n",
       "         ...,\n",
       "         [ 5,  5,  5],\n",
       "         [ 8,  8,  8],\n",
       "         [ 9,  9,  9]],\n",
       " \n",
       "        [[ 3,  3,  3],\n",
       "         [ 3,  3,  3],\n",
       "         [ 3,  3,  3],\n",
       "         ...,\n",
       "         [ 5,  5,  5],\n",
       "         [ 7,  7,  7],\n",
       "         [ 9,  9,  9]],\n",
       " \n",
       "        [[ 2,  2,  2],\n",
       "         [ 2,  2,  2],\n",
       "         [ 2,  2,  2],\n",
       "         ...,\n",
       "         [ 4,  4,  4],\n",
       "         [ 7,  7,  7],\n",
       "         [ 9,  9,  9]],\n",
       " \n",
       "        ...,\n",
       " \n",
       "        [[13, 13, 13],\n",
       "         [11, 11, 11],\n",
       "         [ 8,  8,  8],\n",
       "         ...,\n",
       "         [ 4,  4,  4],\n",
       "         [ 4,  4,  4],\n",
       "         [ 4,  4,  4]],\n",
       " \n",
       "        [[13, 13, 13],\n",
       "         [11, 11, 11],\n",
       "         [ 7,  7,  7],\n",
       "         ...,\n",
       "         [ 3,  3,  3],\n",
       "         [ 4,  4,  4],\n",
       "         [ 4,  4,  4]],\n",
       " \n",
       "        [[13, 13, 13],\n",
       "         [10, 10, 10],\n",
       "         [ 7,  7,  7],\n",
       "         ...,\n",
       "         [ 3,  3,  3],\n",
       "         [ 4,  4,  4],\n",
       "         [ 4,  4,  4]]], dtype=uint8)\n",
       " orig_shape: (640, 640)\n",
       " path: '/Users/mahfujurrahman/Desktop/Thesis/Ultralytics/Temp/000110.jpg'\n",
       " probs: None\n",
       " save_dir: '/Users/mahfujurrahman/Desktop/Thesis/ultralytics/runs/detect/predict5'\n",
       " speed: {'preprocess': 6.918907165527344, 'inference': 166.2449836730957, 'postprocess': 15.933036804199219}]"
      ]
     },
     "execution_count": 45,
     "metadata": {},
     "output_type": "execute_result"
    }
   ],
   "source": [
    "model.predict(source='Ultralytics/Temp/000110.jpg')"
   ]
  },
  {
   "cell_type": "code",
   "execution_count": 44,
   "id": "46575d65",
   "metadata": {},
   "outputs": [
    {
     "data": {
      "text/plain": [
       "'/Users/mahfujurrahman/Desktop/Thesis'"
      ]
     },
     "execution_count": 44,
     "metadata": {},
     "output_type": "execute_result"
    }
   ],
   "source": [
    "pwd"
   ]
  },
  {
   "cell_type": "code",
   "execution_count": null,
   "id": "d0889693",
   "metadata": {},
   "outputs": [],
   "source": []
  }
 ],
 "metadata": {
  "kernelspec": {
   "display_name": "thesis",
   "language": "python",
   "name": "thesis"
  },
  "language_info": {
   "codemirror_mode": {
    "name": "ipython",
    "version": 3
   },
   "file_extension": ".py",
   "mimetype": "text/x-python",
   "name": "python",
   "nbconvert_exporter": "python",
   "pygments_lexer": "ipython3",
   "version": "3.9.13"
  }
 },
 "nbformat": 4,
 "nbformat_minor": 5
}
